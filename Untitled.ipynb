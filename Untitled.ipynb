{
 "cells": [
  {
   "cell_type": "code",
   "execution_count": 1,
   "metadata": {},
   "outputs": [],
   "source": [
    "from linkedin import linkedin"
   ]
  },
  {
   "cell_type": "code",
   "execution_count": 15,
   "metadata": {},
   "outputs": [
    {
     "name": "stdout",
     "output_type": "stream",
     "text": [
      "['r_basicprofile', 'r_emailaddress', 'rw_company_admin', 'w_share']\n"
     ]
    }
   ],
   "source": [
    "# linkedin.PERMISSIONS.enums.values()\n",
    "perm = ['r_basicprofile','r_emailaddress','rw_company_admin','w_share']\n",
    "print perm"
   ]
  },
  {
   "cell_type": "code",
   "execution_count": 16,
   "metadata": {},
   "outputs": [
    {
     "name": "stdout",
     "output_type": "stream",
     "text": [
      "https://www.linkedin.com/uas/oauth2/authorization?scope=r_basicprofile%20r_emailaddress%20rw_company_admin%20w_share&state=19f707090c9e968ae884a9aabd4dd827&redirect_uri=http%3A//localhost%3A8000&response_type=code&client_id=78gj0vpaeimcch\n"
     ]
    }
   ],
   "source": [
    "API_KEY = '78gj0vpaeimcch'\n",
    "API_SECRET = 't1Io538Uuv1xslsx'\n",
    "RETURN_URL = 'http://localhost:8000'\n",
    "\n",
    "authentication = linkedin.LinkedInAuthentication(API_KEY, API_SECRET, RETURN_URL, perm)\n",
    "print authentication.authorization_url  # open this url on your browser\n",
    "application = linkedin.LinkedInApplication(authentication)"
   ]
  },
  {
   "cell_type": "code",
   "execution_count": 17,
   "metadata": {},
   "outputs": [
    {
     "data": {
      "text/plain": [
       "AccessToken(access_token=u'AQWpSwc6cxXWNFRkVjvxGW18DfMIVecXKq3OvyHe1rtOmE4kWOS40fiyFKubjx1ElK3Sd5uYx-BpZ_avx5RS84k6AhHk_J-tGmoBlPjgCfYWOQovQPlbKPKDJxkEjL3ZxlH4UJHp2t8jIyJ7jcSzPwNrErw6nSWwX2QiXm8Wc05MpVuoSHT0vBIXCfdwRrRXXan6BN9PFy3PQ5Bg3A6VqWQmUvdWBkfu4Jk13lGqh4XWrNl1_giE-x4Y5btXPSDPEOpq6UegeQQXNyZqbISdlkTlwoy62CP3FftZ-8id5nJaRBntnEZe7o1jJW7HYXvd48OG5qu4SJq0wK4epOzvYDMfjTvufQ', expires_in=5183999)"
      ]
     },
     "execution_count": 17,
     "metadata": {},
     "output_type": "execute_result"
    }
   ],
   "source": [
    "authentication.authorization_code = 'AQSIFus9lMGfauwpioMxrCioekn0iUky3adOCdbEVof1K2AWLIgZ3ar_Dt4SZmkfKV_haEgdkcYbXqBaO4syfnEUhM9kpETY9N0fF5F9GjCJTujl7Vdg-2QFNDDg_jTL5YjP0LX--dOTixyUx1M9ctkj4bNqGQ'\n",
    "authentication.get_access_token()"
   ]
  },
  {
   "cell_type": "code",
   "execution_count": 18,
   "metadata": {},
   "outputs": [
    {
     "data": {
      "text/plain": [
       "{u'firstName': u'Yuhan (Samantha)',\n",
       " u'headline': u'Teaching Assistant of CS 2110: Object-Oriented Programming and Data Structures  at Cornell University',\n",
       " u'id': u'aMZRi1lN-7',\n",
       " u'lastName': u'Deng',\n",
       " u'siteStandardProfileRequest': {u'url': u'https://www.linkedin.com/profile/view?id=AAoAAB2BdaUBWV8mJSDS0ZCJQ8PQyt6kutA6Mo8&authType=name&authToken=KEAh&trk=api*a4889854*s4825414*'}}"
      ]
     },
     "execution_count": 18,
     "metadata": {},
     "output_type": "execute_result"
    }
   ],
   "source": [
    "application.get_profile()"
   ]
  },
  {
   "cell_type": "code",
   "execution_count": 19,
   "metadata": {},
   "outputs": [
    {
     "data": {
      "text/plain": [
       "{u'_total': 0}"
      ]
     },
     "execution_count": 19,
     "metadata": {},
     "output_type": "execute_result"
    }
   ],
   "source": [
    "application.get_companies(company_ids=[1035], universal_names=['apple'], selectors=['name'], params={'is-company-admin': 'true'})\n"
   ]
  },
  {
   "cell_type": "code",
   "execution_count": 24,
   "metadata": {},
   "outputs": [
    {
     "data": {
      "text/plain": [
       "{u'_count': 15,\n",
       " u'_start': 0,\n",
       " u'_total': 178,\n",
       " u'values': [{u'isCommentable': False,\n",
       "   u'isLikable': False,\n",
       "   u'timestamp': 1530274672717,\n",
       "   u'updateContent': {u'company': {u'id': 10523915,\n",
       "     u'name': u'Acxiom Asia Pacific'},\n",
       "    u'companyJobUpdate': {u'action': {u'code': u'none'},\n",
       "     u'job': {u'company': {u'id': 10523915, u'name': u'Acxiom Asia Pacific'},\n",
       "      u'description': u'JOB ROLE SUMMARY   Evaluates, negotiates and manages new strategic business partnerships.  Incorporates Acxiom\\u2019s business and/or product requirements into successful partnering engagements, from planning  through selection, negotiation, and implementation. &nbsp; Defines vision, strategies, and tactics.  Develops domain expertise and key external relationships, and exercises thought leadership. &nbsp; Coordinates across the Acxiom organization to involve critical functions in partnerships and to resolve internal conflict in order to accomplish partnership goals. \\n \\n   DUTIES AND RESPONSIBILITIES&nbsp;     Responsible for creating new partnerships, including partner selection, development, negotiation, and launch.    Works as a peer with Acxiom counterparts such as sales executives, account managers, product managers, and delivery executives    Researches market   Gathers requirements   Develops business case   Ensures privacy and legal compliance   Formulates and executes negotiating strategy   Responsibiliti',\n",
       "      u'id': 745589342,\n",
       "      u'locationDescription': u'Shanghai City, China',\n",
       "      u'position': {u'title': u'Partnership Manager'},\n",
       "      u'siteJobRequest': {u'url': u'https://www.linkedin.com/jobs?viewJob=&jobId=745589342'}}}},\n",
       "   u'updateKey': u'UPDATE-c10523915-6418437180565393408',\n",
       "   u'updateType': u'CMPY'},\n",
       "  {u'isCommentable': False,\n",
       "   u'isLikable': False,\n",
       "   u'timestamp': 1530258866627,\n",
       "   u'updateContent': {u'company': {u'id': 10523915,\n",
       "     u'name': u'Acxiom Asia Pacific'},\n",
       "    u'companyJobUpdate': {u'action': {u'code': u'none'},\n",
       "     u'job': {u'company': {u'id': 10523915, u'name': u'Acxiom Asia Pacific'},\n",
       "      u'description': u'We are currently looking for an experienced Senior Recruiter to join our team in a fixed term capacity (6 months). As a member of our team, you will own and drive the recruiting process from end-to-end. You will work consultatively with our hiring managers to partner and develop strategies to find candidates in a creative manner.&nbsp; \\n   At LiveRamp we\\u2019re passionate about delivering a candidate experience that lends genuine insight into our culture and what it\\u2019s really like to work here. We are seeking a dynamic Sr. Recruiter who brings a balance of creativity, focus, and determination to our team. \\n   What will you do?   \\xb7 &nbsp; &nbsp; &nbsp; Fill roles (and QUICKLY!). You will partner with senior management to hire with speed and quality for Snr Commercial, Product and Technical roles across the APAC region   \\xb7 &nbsp; &nbsp; &nbsp; Drive the recruitment process for senior business leaders; coaching and guiding managers throughout the process. This includes owning interview planning/debrief sessions and c',\n",
       "      u'id': 745561886,\n",
       "      u'locationDescription': u'Singapore',\n",
       "      u'position': {u'title': u'(Senior)Recruiter- LiveRamp'},\n",
       "      u'siteJobRequest': {u'url': u'https://www.linkedin.com/jobs?viewJob=&jobId=745561886'}}}},\n",
       "   u'updateKey': u'UPDATE-c10523915-6418370885035659264',\n",
       "   u'updateType': u'CMPY'},\n",
       "  {u'isCommentable': True,\n",
       "   u'isLikable': True,\n",
       "   u'isLiked': False,\n",
       "   u'numLikes': 0,\n",
       "   u'timestamp': 1529920565977,\n",
       "   u'updateComments': {u'_total': 0},\n",
       "   u'updateContent': {u'company': {u'id': 10523915,\n",
       "     u'name': u'Acxiom Asia Pacific'},\n",
       "    u'companyStatusUpdate': {u'share': {u'comment': u'Business2Community takes a look at #MicroMoments, #PPC and #SEO, and how these elements affect marketing decisions: https://okt.to/8nRKRE\\n#marketing ',\n",
       "      u'content': {u'description': u'Micro Moments There has been a lot of talk recently around \\u201cMicro Moments\\u201d in the world of digital marketing. Think with Google, Google\\u2019s content marketing team, explained the different types o\\u2026',\n",
       "       u'eyebrowUrl': u'https://okt.to/8nRKRE',\n",
       "       u'shortenedUrl': u'https://okt.to/8nRKRE',\n",
       "       u'submittedImageUrl': u'https://media.licdn.com/media-proxy/ext?w=800&h=800&f=n&hash=Iar0fC3ofzZCdBsoBe4mPq2CmyU%3D&ora=1%2CaFBCTXdkRmpGL2lvQUFBPQ%2CxAVta5g-0R6plxVUwAky6aCEvlzi50hKSJfSC3ToRXb1p8rHIGq6JpmbLOzluxhWJHNQxEctfe-pSC_hF4zLSfXyD4Au3IqdccGwYxVLRBUkhmYCwd42PBcwptqsFew',\n",
       "       u'submittedUrl': u'https://okt.to/8nRKRE',\n",
       "       u'thumbnailUrl': u'https://media.licdn.com/media-proxy/ext?w=80&h=100&f=&hash=vpF3%2BuFRRizk5ZBd%2FGARPTUVSuM%3D&ora=1%2CaFBCTXdkRmpGL2lvQUFBPQ%2CxAVta5g-0R6nlh8Tw1It6a2FowGz60oISIfYC2G8G2f1spyfNT-tdoDScbKhsgUbcCwBhlI_IfnwEXO5H-rtaYq5Dt8u3d2PV8SWdQgkbEg7tXgdz9wiDFx3kdKpF-qtMWsc8e1-TwyJC73iVV8vLQll8fq4GKH6GWxUi3WUbO71GJlCE-dQppFW22hgsOzODZw_66l8xHJgnQ6014rQMAsvuKGkOXe8VkZtGE3pH-0QlL-K0B6nilzKgkHljae-NLGGELAyzzq41MDnfiHXklVbuFgO_FI4k5lcEHfXj_II01uGG_krahWCvtjGW3z6qoAx-TEMrNKXOBK0',\n",
       "       u'title': u'Micro-Moments, PPC and SEO'},\n",
       "      u'id': u's6416951949559627776',\n",
       "      u'source': {u'serviceProvider': {u'name': u'LINKEDIN'},\n",
       "       u'serviceProviderShareId': u's6416951949559627776'},\n",
       "      u'timestamp': 1529920565977,\n",
       "      u'visibility': {u'code': u'anyone'}}}},\n",
       "   u'updateKey': u'UPDATE-c10523915-6416951949987446784',\n",
       "   u'updateType': u'CMPY'},\n",
       "  {u'isCommentable': True,\n",
       "   u'isLikable': True,\n",
       "   u'isLiked': False,\n",
       "   u'numLikes': 0,\n",
       "   u'timestamp': 1529920533450,\n",
       "   u'updateComments': {u'_total': 0},\n",
       "   u'updateContent': {u'company': {u'id': 10523915,\n",
       "     u'name': u'Acxiom Asia Pacific'},\n",
       "    u'companyStatusUpdate': {u'share': {u'comment': u'Digital video #adspend is continuing to rise, with #socialmedia set to see the greatest growth. Learn more in Marketing Land: https://okt.to/aJHagm\\n#marketing\\xa0#digitalvideo ',\n",
       "      u'content': {u'description': u\"The IAB's latest video advertising study finds two-thirds of advertisers will shift budgets from TV to digital.\",\n",
       "       u'eyebrowUrl': u'https://okt.to/aJHagm',\n",
       "       u'shortenedUrl': u'https://okt.to/aJHagm',\n",
       "       u'submittedImageUrl': u'https://media.licdn.com/media-proxy/ext?w=1920&h=1080&f=n&hash=vfPAjzTd%2B%2BUNuNp8%2BevAU1gBbbE%3D&ora=1%2CaFBCTXdkRmpGL2lvQUFBPQ%2CxAVta5g-0R6nkgkRxwgo7qmNrEG0qkRISM3LEi3yBHvur4vEfyq1ZJuAKObiu18WeSkekActObb8FW_8Udf-ftuyPsEi1Mmhcc6gKxQVJE1v1zkB5sE8',\n",
       "       u'submittedUrl': u'https://okt.to/aJHagm',\n",
       "       u'thumbnailUrl': u'https://media.licdn.com/media-proxy/ext?w=80&h=100&f=&hash=hgGjmQMrIF1ZPpkQrmFJo129cfs%3D&ora=1%2CaFBCTXdkRmpGL2lvQUFBPQ%2CxAVta5g-0R6nlh8Tw1It6a2FowGz60oISIfYC2G8G2f1spyfNT-tdoDSeLujpEtOdS0BmAQkKeL2VmiwUcuxbdyPDIY778PwJuLxNCUzRwkYlTEKvvM-LzgR5JOEB-nVJX1qlONKbHLsduvKZnQdKREP-ee7IJf_BQ8dz2e5a_rRKIkXfa9DxpVbllkY9_-TGsE5w75y329mn0-x0qvfEWgd4KeCOGLtK3M8WXziEOpTrPuR9zSRgQHlsFzzjKCSDLzyS5Mx-Xyt7MLbYiiBiiFOiV9P7QIfy8xhFGrkn_AWu269P8gKCRmhq9DTZl3_7uEJ8QRJq-bc',\n",
       "       u'title': u'Digital video ad spend keeps rising, with social media (i.e., Facebook) set to see most growth'},\n",
       "      u'id': u's6416951813127303168',\n",
       "      u'source': {u'serviceProvider': {u'name': u'LINKEDIN'},\n",
       "       u'serviceProviderShareId': u's6416951813127303168'},\n",
       "      u'timestamp': 1529920533450,\n",
       "      u'visibility': {u'code': u'anyone'}}}},\n",
       "   u'updateKey': u'UPDATE-c10523915-6416951813643202560',\n",
       "   u'updateType': u'CMPY'},\n",
       "  {u'isCommentable': False,\n",
       "   u'isLikable': False,\n",
       "   u'timestamp': 1529402828994,\n",
       "   u'updateContent': {u'company': {u'id': 10523915,\n",
       "     u'name': u'Acxiom Asia Pacific'},\n",
       "    u'companyJobUpdate': {u'action': {u'code': u'none'},\n",
       "     u'job': {u'company': {u'id': 10523915, u'name': u'Acxiom Asia Pacific'},\n",
       "      u'description': u'\\u804c\\u4f4d\\u63cf\\u8ff0\\uff1a\\n 1. \\u63d0\\u4f9b\\u5bf9EC\\u4e1a\\u52a1\\u652f\\u6301\\u7684CRM\\u76f8\\u5173\\u6570\\u636e\\u5206\\u6790\\u9700\\u6c42\\uff1b   2. \\u5bf9\\u4ea7\\u54c1\\u3001\\u9500\\u552e\\u6e20\\u9053\\u8fdb\\u884c\\u5206\\u6790\\u3001\\u53d1\\u73b0\\u6f5c\\u5728\\u89c4\\u5f8b\\u3001\\u5e76\\u4e14\\u505a\\u51fa\\u5546\\u4e1a\\u6d1e\\u5bdf\\uff1b\\n 3.\\u627f\\u62c5\\u5ba2\\u6237\\u65b9\\u7684\\u6d3b\\u52a8\\u65b9\\u6848\\u5206\\u6790\\u5de5\\u4f5c\\uff1b\\n 4.\\u534f\\u52a9\\u5ba2\\u6237\\u63a8\\u8fdb\\u5404\\u4e2aCRM\\u9879\\u76ee\\u53ca\\u63d0\\u5347KPI\\uff1b\\n 5. \\u5bf9\\u7528\\u6237\\u7279\\u5f81\\u3001\\u9700\\u6c42\\u3001\\u884c\\u4e3a\\u5206\\u6790\\u3001\\u6d3b\\u8dc3\\u5ea6\\u3001\\u8425\\u9500\\u6d3b\\u52a8\\u6548\\u679c\\u7b49\\u7279\\u5b9a\\u4e1a\\u52a1\\u7684\\u6570\\u636e\\u6316\\u6398\\u6a21\\u578b\\u7684\\u9700\\u6c42\\u5206\\u6790\\u3002   \\n \\u5c97\\u4f4d\\u8981\\u6c42\\uff1a\\n 1. \\u7edf\\u8ba1\\u5b66\\u3001\\u8ba1\\u91cf\\u7ecf\\u6d4e\\u5b66\\u3001\\u6570\\u5b66\\u3001\\u6570\\u636e\\u6316\\u6398\\u3001\\u5e02\\u573a\\u8425\\u9500\\u7b49\\u76f8\\u5173\\u4e13\\u4e1a\\u672c\\u79d1\\u4ee5\\u4e0a\\u5b66\\u5386\\uff1b   2. 2\\u5e74\\u53ca\\u4ee5\\u4e0a\\u6570\\u636e\\u5206\\u6790\\u5de5\\u4f5c\\u7ecf\\u9a8c\\uff0c\\u6709\\u5feb\\u6d88\\u54c1\\u6570\\u636e\\u5206\\u6790\\u6216\\u6d88\\u8d39\\u8005\\u7814\\u7a76\\u3001CRM\\u6570\\u636e\\u5206\\u6790\\u5de5\\u4f5c\\u7ecf\\u9a8c\\u8005\\u4f18\\u5148;   3. \\u826f\\u597d\\u7684\\u6570\\u636e\\u5206\\u6790\\uff0c\\u6570\\u636e\\u6d1e\\u5bdf\\u80fd\\u529b; \\u5177\\u5907\\u826f\\u597d\\u7684\\u6570\\u636e\\u5448\\u73b0\\u80fd\\u529b\\uff0c\\u5305\\u62ecPPT\\u5c55\\u793a\\u548c\\u8bb2\\u89e3\\u80fd\\u529b\\u3002\\n 4. \\u6709\\u8f83\\u5f3a\\u7684\\u5e02\\u573a\\u8425\\u9500\\u610f\\u8bc6\\uff0c\\u63d0\\u4f9b\\u80fd\\u5e2e\\u52a9\\u8425\\u9500\\u6d3b\\u52a8\\u6216CRM\\u6d3b\\u52a8\\u7684\\u5206\\u6790\\u62a5\\u544a\\u3002   5. \\u826f\\u597d\\u7684\\u6c9f\\u901a,\\u534f\\u8c03\\uff0c\\u56e2\\u961f\\u5408\\u4f5c\\u80fd\\u529b\\u3002   \\n&nbsp;\\n&nbsp;',\n",
       "      u'id': 733950303,\n",
       "      u'locationDescription': u'Shanghai City, China',\n",
       "      u'position': {u'title': u'(Data) Analyst'},\n",
       "      u'siteJobRequest': {u'url': u'https://www.linkedin.com/jobs?viewJob=&jobId=733950303'}}}},\n",
       "   u'updateKey': u'UPDATE-c10523915-6414780403038720000',\n",
       "   u'updateType': u'CMPY'},\n",
       "  {u'isCommentable': True,\n",
       "   u'isLikable': True,\n",
       "   u'isLiked': False,\n",
       "   u'numLikes': 0,\n",
       "   u'timestamp': 1528966789216,\n",
       "   u'updateComments': {u'_total': 0},\n",
       "   u'updateContent': {u'company': {u'id': 10523915,\n",
       "     u'name': u'Acxiom Asia Pacific'},\n",
       "    u'companyStatusUpdate': {u'share': {u'comment': u'#Programmatic platforms are absorbing 20% of media ad spend: eMarketer takes a closer look: https://okt.to/pvYQEW\\n#marketing\\xa0#adspend\\xa0',\n",
       "      u'content': {u'description': u'GroupM estimates that DSPs and SSPs each take a 10% cut of the ad expenditures flowing through their platforms.',\n",
       "       u'eyebrowUrl': u'https://okt.to/pvYQEW',\n",
       "       u'shortenedUrl': u'https://okt.to/pvYQEW',\n",
       "       u'submittedImageUrl': u'https://media.licdn.com/media-proxy/ext?w=1200&h=676&f=n&hash=uKDe3ewIPzoSAgCW4U9jClQbfg8%3D&ora=1%2CaFBCTXdkRmpGL2lvQUFBPQ%2CxAVta5g-0R6pnBUOxxI187qOv0634QpJRJqNTGX8Cmfxr5HVImm6JprAL7WhoF0XKXpUl1UyfOepRjK1EpG_eI3pL40n3ZXlIJD7ZAsTew4zgVZH6cM0BhAptJOj',\n",
       "       u'submittedUrl': u'https://okt.to/pvYQEW',\n",
       "       u'thumbnailUrl': u'https://media.licdn.com/media-proxy/ext?w=80&h=100&f=&hash=JWLfbxfYDaEytjOKHR5CvI758gE%3D&ora=1%2CaFBCTXdkRmpGL2lvQUFBPQ%2CxAVta5g-0R6nlh8Tw1It6a2FowGz60oISIfYC2G8G2f1spyfNT-tdoDSeLChpEtOdSoGlhJkcrG-GGGiSp75UP66fok28veve_OVYSQxPSlvj0pD3dM9PkFh5rDgCvnxPX8LgM9ZSw2eB4HtbGAyGgIbr-CfHLL-C20gnASvVfnXDc0QWfoywtdKzXxgiNXdPZtmn51F3jg_mwqN7JPIHCki37KTU2yzAU4nX032EfFL6IWXwBOkx2fXlW-Cn6SoFZyvQpEtzFit99HSXVammF5Xu0lEyCpN1sQmO0vYpf87vXmRJP8MSEqQtNffZC6t1eAx8gcMrOmrFA',\n",
       "       u'title': u'How Programmatic Platforms Absorb 20% of Media Ad Spend - eMarketer'},\n",
       "      u'id': u's6412951519871668224',\n",
       "      u'source': {u'serviceProvider': {u'name': u'LINKEDIN'},\n",
       "       u'serviceProviderShareId': u's6412951519871668224'},\n",
       "      u'timestamp': 1528966789216,\n",
       "      u'visibility': {u'code': u'anyone'}}}},\n",
       "   u'updateKey': u'UPDATE-c10523915-6412951520249147392',\n",
       "   u'updateType': u'CMPY'},\n",
       "  {u'isCommentable': True,\n",
       "   u'isLikable': True,\n",
       "   u'isLiked': False,\n",
       "   u'numLikes': 0,\n",
       "   u'timestamp': 1528966699541,\n",
       "   u'updateComments': {u'_total': 0},\n",
       "   u'updateContent': {u'company': {u'id': 10523915,\n",
       "     u'name': u'Acxiom Asia Pacific'},\n",
       "    u'companyStatusUpdate': {u'share': {u'comment': u'Digital video #adspend is continuing to rise, with #socialmedia set to see the greatest growth. Learn more in Marketing Land: https://okt.to/aJHagm\\n#marketing\\xa0#digitalvideo ',\n",
       "      u'content': {u'description': u\"The IAB's latest video advertising study finds two-thirds of advertisers will shift budgets from TV to digital.\",\n",
       "       u'eyebrowUrl': u'https://okt.to/aJHagm',\n",
       "       u'shortenedUrl': u'https://okt.to/aJHagm',\n",
       "       u'submittedImageUrl': u'https://media.licdn.com/media-proxy/ext?w=1920&h=1080&f=n&hash=vfPAjzTd%2B%2BUNuNp8%2BevAU1gBbbE%3D&ora=1%2CaFBCTXdkRmpGL2lvQUFBPQ%2CxAVta5g-0R6nkgkRxwgo7qmNrEG0qkRISM3LEi3yBHvur4vEfyq1ZJuAKObiu18WeSkekActObb8FW_8Udf-ftuyPsEi1Mmhcc6gKxQVJE1v1zkB5sE8',\n",
       "       u'submittedUrl': u'https://okt.to/aJHagm',\n",
       "       u'thumbnailUrl': u'https://media.licdn.com/media-proxy/ext?w=80&h=100&f=&hash=hgGjmQMrIF1ZPpkQrmFJo129cfs%3D&ora=1%2CaFBCTXdkRmpGL2lvQUFBPQ%2CxAVta5g-0R6nlh8Tw1It6a2FowGz60oISIfYC2G8G2f1spyfNT-tdoDSeLujpEtOdS0BmAQkKeL2VmiwUcuxbdyPDIY778PwJuLxNCUzRwkYlTEKvvM-LzgR5JOEB-nVJX1qlONKbHLsduvKZnQdKREP-ee7IJf_BQ8dz2e5a_rRKIkXfa9DxpVbllkY9_-TGsE5w75y329mn0-x0qvfEWgd4KeCOGLtK3M8WXziEOpTrPuR9zSRgQHlsFzzjKCSDLzyS5Mx-Xyt7MLbYiiBiiFOiV9P7QIfy8xhFGrkn_AWu269P8gKCRmhq9DTZl3_7uEJ8QRJq-bc',\n",
       "       u'title': u'Digital video ad spend keeps rising, with social media (i.e., Facebook) set to see most growth'},\n",
       "      u'id': u's6412951143747461120',\n",
       "      u'source': {u'serviceProvider': {u'name': u'LINKEDIN'},\n",
       "       u'serviceProviderShareId': u's6412951143747461120'},\n",
       "      u'timestamp': 1528966699541,\n",
       "      u'visibility': {u'code': u'anyone'}}}},\n",
       "   u'updateKey': u'UPDATE-c10523915-6412951144124936192',\n",
       "   u'updateType': u'CMPY'},\n",
       "  {u'isCommentable': True,\n",
       "   u'isLikable': True,\n",
       "   u'isLiked': False,\n",
       "   u'numLikes': 0,\n",
       "   u'timestamp': 1528772614832,\n",
       "   u'updateComments': {u'_total': 0},\n",
       "   u'updateContent': {u'company': {u'id': 10523915,\n",
       "     u'name': u'Acxiom Asia Pacific'},\n",
       "    u'companyStatusUpdate': {u'share': {u'comment': u'First impressions count! Entrepreneur confirms that the earliest interactions that your customer has with your brand are those that impact customer #loyalty the most: https://okt.to/gOL3IO\\n#marketing\\xa0#branding\\xa0#customerloyalty\\xa0#customerengagement',\n",
       "      u'content': {u'description': u\"You've spent years growing your product. Why throw all of that away by ignoring customers once they step through the door?\",\n",
       "       u'eyebrowUrl': u'https://okt.to/gOL3IO',\n",
       "       u'shortenedUrl': u'https://okt.to/gOL3IO',\n",
       "       u'submittedImageUrl': u'https://media.licdn.com/media-proxy/ext?w=1300&h=867&f=n&hash=cImEU8tVzkExJ9cDu%2B3FO1miuWg%3D&ora=1%2CaFBCTXdkRmpGL2lvQUFBPQ%2CxAVta5g-0R6rgAgf1g9v5aCVv0qg9kJJQJfOTGP-Bjr5pYvENSmtZsSXe62gp10WZy4BkQwyeu6sQjHgFJe-Nv26OZg48sq0c8WnK1FWMU1g0zEevZ8xKRwj',\n",
       "       u'submittedUrl': u'https://okt.to/gOL3IO',\n",
       "       u'thumbnailUrl': u'https://media.licdn.com/media-proxy/ext?w=80&h=100&f=&hash=z%2F%2BBiN%2BehAwovgpu6HUj6fpOj78%3D&ora=1%2CaFBCTXdkRmpGL2lvQUFBPQ%2CxAVta5g-0R6nlh8Tw1It6a2FowGz60oISIfYC2G8G2f1spyfNT-tdoDSeLGhpEtOdSQHlxJkcrG-GGGiSp7vUteaGNQ17d2-UdiePwQifFlkpzppw4A2MAwTstH1Ia3_ci8Tg6kKTi6bEZrdX1Y0OCgn2sDbIZHpHHsz6WfJH_v5OPpRX-JlvdFolUxShsrDRc1n3tlr615_mE-7pbLQHAkm7bqfLH_zJVwnX3X5LtlojaKT6CG7qFWJyE7C9t-nP7D3Ma8F3W6t8rXLRw2rj19Cuy05zlRPqfByVSvHnYUcsnS-HJovaDO_4ua1Vl2r7opL4g0ur8k',\n",
       "       u'title': u'Long-Term Customer Loyalty Starts (or Ends) With Your Earliest Interactions'},\n",
       "      u'id': u's6412137093476151296',\n",
       "      u'source': {u'serviceProvider': {u'name': u'LINKEDIN'},\n",
       "       u'serviceProviderShareId': u's6412137093476151296'},\n",
       "      u'timestamp': 1528772614832,\n",
       "      u'visibility': {u'code': u'anyone'}}}},\n",
       "   u'updateKey': u'UPDATE-c10523915-6412137094105309184',\n",
       "   u'updateType': u'CMPY'},\n",
       "  {u'isCommentable': True,\n",
       "   u'isLikable': True,\n",
       "   u'isLiked': False,\n",
       "   u'numLikes': 0,\n",
       "   u'timestamp': 1528770827616,\n",
       "   u'updateComments': {u'_total': 0},\n",
       "   u'updateContent': {u'company': {u'id': 10523915,\n",
       "     u'name': u'Acxiom Asia Pacific'},\n",
       "    u'companyStatusUpdate': {u'share': {u'comment': u'Finding creative and relevant reasons to communicate new products, features and experiences help to boost #loyalty. Marketing Tech News explains further: https://okt.to/wTRECx\\xa0\\n#marketing\\xa0#customerloyalty\\xa0#customerengagement\\xa0#customerexperience',\n",
       "      u'content': {u'description': u'McKinsey research, from more than 125,000 consumers, shows that 87% exhibit a strong propensity to shop around.',\n",
       "       u'eyebrowUrl': u'https://okt.to/wTRECx',\n",
       "       u'shortenedUrl': u'https://okt.to/wTRECx\\xa0',\n",
       "       u'submittedImageUrl': u'https://media.licdn.com/media-proxy/ext?w=600&h=450&f=n&hash=6IEZIpQZf2xGvER0berfee2rhBU%3D&ora=1%2CaFBCTXdkRmpGL2lvQUFBPQ%2CxAVta5g-0R69hAxUzx0z66uVpEG38EJETYzZFXO_BXDu5YjVNC64Zp6CLq3_8RpVZ2hQ0lNnO_L1EXK6R9eheNWxLokxz4q0YNSmZwQSYBIxyGpa_8U0NBw2ptm2DOjkdTxLn-VcNHvuZ-mxMAVvRC8n-qLffdfAfw1B5kfVG5bxF8s',\n",
       "       u'submittedUrl': u'https://okt.to/wTRECx',\n",
       "       u'thumbnailUrl': u'https://media.licdn.com/media-proxy/ext?w=80&h=100&f=&hash=s4DBJra14K0d9up4%2BktvgnYspe8%3D&ora=1%2CaFBCTXdkRmpGL2lvQUFBPQ%2CxAVta5g-0R6nlh8Tw1It6a2FowGz60oISIfYC2G8G2f1spyfNT-tdoDSf7KhsgUbfCkBhlI_IfnwEXO5H5XFXuCWPb0b3ZWtU9aRVFcEbA4wgGwd_tkZDFx3kdKpF-qtMWsc8e1-TwyJC73iVV8vLQll8fq4GKH6GWxUi3WUbO71GJlCE-dQpthS4kZgvdWVDpxo3bp67U86kHuW2Y3DLAIq07qUKXeaEgMMAFPuG6oShL_R8R6Zw2-HqFnknd2YNPmvPaob9Vv5wtvzIDXajXFtkFcP9AkSntAhECPtouYS0FSBBPIrdgaTlPHkcyCbqJ4x7XQMrM7WOjipU3tdiyhkCa_XlG8jH7-FwRjx1xV3SfwEEhVmqMmRSvWa3XzcRCJqbU2YFyVCs4T_',\n",
       "       u'title': u'The elusiveness of customer loyalty: Winning the new battleground for marketing-led growth'},\n",
       "      u'id': u's6412129597353263104',\n",
       "      u'source': {u'serviceProvider': {u'name': u'LINKEDIN'},\n",
       "       u'serviceProviderShareId': u's6412129597353263104'},\n",
       "      u'timestamp': 1528770827616,\n",
       "      u'visibility': {u'code': u'anyone'}}}},\n",
       "   u'updateKey': u'UPDATE-c10523915-6412129597760114688',\n",
       "   u'updateType': u'CMPY'},\n",
       "  {u'isCommentable': False,\n",
       "   u'isLikable': False,\n",
       "   u'timestamp': 1528689704767,\n",
       "   u'updateContent': {u'company': {u'id': 10523915,\n",
       "     u'name': u'Acxiom Asia Pacific'},\n",
       "    u'companyJobUpdate': {u'action': {u'code': u'none'},\n",
       "     u'job': {u'company': {u'id': 10523915, u'name': u'Acxiom Asia Pacific'},\n",
       "      u'description': u\"JOB ROLE SUMMARY   Assists clients with business solution definition as well as campaign management and business intelligence tools and/or processes through all or some of the following ways:     Fully      understands details of client's data and Acxiom's marketing capabilities,      ensuring clients receive accurately segmented, cleansed, formatted and      ready-to-market data.    Executes      and analyzes decision support processes and data to measure campaign      efficiency, data accuracy, data integrity, operations performance,      customer satisfaction and cost effectiveness.    Provides      data, analysis and recommendations to support multiple technical      operations and ensure client satisfaction.   Researches,      trouble shoots, administers application administration, conducts      application user training, and code changes.    DUTIES AND RESPONSIBILITIES     Fully functional and self-directed.   Provides formal mentorship.   High complexity assignments- owner.   Owner of moderately comple\",\n",
       "      u'id': 724054826,\n",
       "      u'locationDescription': u'Singapore',\n",
       "      u'position': {u'title': u'Decision Support Analyst'},\n",
       "      u'siteJobRequest': {u'url': u'https://www.linkedin.com/jobs?viewJob=&jobId=724054826'}}}},\n",
       "   u'updateKey': u'UPDATE-c10523915-6411789343475724288',\n",
       "   u'updateType': u'CMPY'},\n",
       "  {u'isCommentable': True,\n",
       "   u'isLikable': True,\n",
       "   u'isLiked': False,\n",
       "   u'numLikes': 0,\n",
       "   u'timestamp': 1528364763119,\n",
       "   u'updateComments': {u'_total': 0},\n",
       "   u'updateContent': {u'company': {u'id': 10523915,\n",
       "     u'name': u'Acxiom Asia Pacific'},\n",
       "    u'companyStatusUpdate': {u'share': {u'comment': u'\"If you want loyal customers, you should be loyal to them\" - discover key customer #loyalty tips in this Forbes post: https://okt.to/sOaeNM\\xa0\\n#marketing\\xa0#customerloyalty\\xa0#customerengagement',\n",
       "      u'content': {u'description': u'Being loyal to your customers means that you treat them the way you want to be treated, you care deeply and you help them succeed.',\n",
       "       u'eyebrowUrl': u'https://okt.to/sOaeNM',\n",
       "       u'shortenedUrl': u'https://okt.to/sOaeNM\\xa0',\n",
       "       u'submittedImageUrl': u'https://media.licdn.com/media-proxy/ext?w=600&h=315&f=n&hash=jzgJp9%2Fgxz66mKb47kgsUkSd0og%3D&ora=1%2CaFBCTXdkRmpGL2lvQUFBPQ%2CxAVta5g-0R6-mw4XwBMzrqiOv0219wlESo-TFmjkBnf1uMqGYHehesbaZurl4B1VbS9whQZEau3eEmy-RdChcte-KokylcG6ZsKxdUkFZhFz109J48M5PAolspGoBvLzbztA0eVUKH2bNbDlYkF6WANlrb3RaNX-eQhUi3CCWNWsSpkIC-cy6NQKkxBft8o',\n",
       "       u'submittedUrl': u'https://okt.to/sOaeNM',\n",
       "       u'thumbnailUrl': u'https://media.licdn.com/media-proxy/ext?w=80&h=100&f=&hash=dWSN4H7Hx8tIPBWZHDMOCiR4Jmk%3D&ora=1%2CaFBCTXdkRmpGL2lvQUFBPQ%2CxAVta5g-0R6nlh8Tw1It6a2FowGz60oISIfYC2G8G2f1spyfNT-tdoDSf7KhsgUbey0EhlI_IfnwEXO5H8n2fPCvdMlz_cCtbpbiaywEPUs9gnp65-I_aRYj8MeCQ-TiYXMfl757bAmfEI3RY1kNBzUQ0b6FO7btD38h6BPebsDAL9hEC7AvoLMMjlNC8_XSNuck2p1j5345mg_l67XfBTdB37OmAUScCVBkH0jRH8Vuu6eCwTCJqkXNlh3w9rmSNvC0G5UO73a9tOb9ex7Oun1LtmMD3UsyicFsDXDz2u8MwVu0AsAvZRasqbC1FVL6oJ1GygcTtNCUORiBTlNzkR5-ZcnRjHIeItfK4gL4-hpqXYlrPXZ7ls3EfPKV4yaIV39UYiicYRB0os_fp6a-MZ9oWaZLrstnU-Q0aFQJ',\n",
       "       u'title': u'Does Your B2B Digital Marketing Focus On Customer Loyalty?'},\n",
       "      u'id': u's6410426439404908544',\n",
       "      u'source': {u'serviceProvider': {u'name': u'LINKEDIN'},\n",
       "       u'serviceProviderShareId': u's6410426439404908544'},\n",
       "      u'timestamp': 1528364763119,\n",
       "      u'visibility': {u'code': u'anyone'}}}},\n",
       "   u'updateKey': u'UPDATE-c10523915-6410426445880922112',\n",
       "   u'updateType': u'CMPY'},\n",
       "  {u'isCommentable': True,\n",
       "   u'isLikable': True,\n",
       "   u'isLiked': False,\n",
       "   u'numLikes': 0,\n",
       "   u'timestamp': 1528364690561,\n",
       "   u'updateComments': {u'_total': 0},\n",
       "   u'updateContent': {u'company': {u'id': 10523915,\n",
       "     u'name': u'Acxiom Asia Pacific'},\n",
       "    u'companyStatusUpdate': {u'share': {u'comment': u'Econsultancy asks: What keeps UK #marketers awake at night when it comes to customer #data? Learn more about five challenges in this post: https://okt.to/axjxfZ #marketing\\xa0#customerdata',\n",
       "      u'content': {u'description': u'Collecting, managing and using customer and prospect data is essential to marketing success. But it brings its own range of challenges, as well as opportunities.',\n",
       "       u'eyebrowUrl': u'https://okt.to/axjxfZ',\n",
       "       u'shortenedUrl': u'https://okt.to/axjxfZ',\n",
       "       u'submittedImageUrl': u'https://image-store.slidesharecdn.com/28a40b02-5dc5-473e-b28f-a231f1fd782c-original.png',\n",
       "       u'submittedUrl': u'https://okt.to/axjxfZ',\n",
       "       u'thumbnailUrl': u'https://media.licdn.com/media-proxy/ext?w=80&h=100&f=&hash=cW635%2ByfF50Hj5Ii6kavb5FVJ6o%3D&ora=1%2CaFBCTXdkRmpGL2lvQUFBPQ%2CxAVta5g-0R6jnhodx1Ey9KGTqAGj6E5DQJHUA3L0CHH05IbfPWjrcZbbeeChpkATLH8EjQA1fLq1EjLpRI7tKYnuK90n35DtJsP5aRUPbhU4hGUB_N88',\n",
       "       u'title': u'What keeps UK marketers awake at night when it comes to customer data?'},\n",
       "      u'id': u's6410426135074603008',\n",
       "      u'source': {u'serviceProvider': {u'name': u'LINKEDIN'},\n",
       "       u'serviceProviderShareId': u's6410426135074603008'},\n",
       "      u'timestamp': 1528364690561,\n",
       "      u'visibility': {u'code': u'anyone'}}}},\n",
       "   u'updateKey': u'UPDATE-c10523915-6410426135477256192',\n",
       "   u'updateType': u'CMPY'},\n",
       "  {u'isCommentable': True,\n",
       "   u'isLikable': True,\n",
       "   u'isLiked': False,\n",
       "   u'likes': {u'_total': 1, u'values': [{}]},\n",
       "   u'numLikes': 1,\n",
       "   u'timestamp': 1528275833349,\n",
       "   u'updateComments': {u'_total': 0},\n",
       "   u'updateContent': {u'company': {u'id': 10523915,\n",
       "     u'name': u'Acxiom Asia Pacific'},\n",
       "    u'companyStatusUpdate': {u'share': {u'comment': u'\"Data hasn\\u2019t just changed the #CMO Role. It has disrupted it.\" - Forbes takes a look at how marketers\\' roles have changed due to #data: https://okt.to/4DZu0T\\xa0\\n#marketing\\xa0#dataanalysis\\xa0',\n",
       "      u'content': {u'description': u'Data, in combination with technology, drives much of the revolution happening in business today. In this article, I talk with Tom Benton, the CEO of the Data & Marketing Association (formerly known as the Direct Marketing Association) about the impact...',\n",
       "       u'eyebrowUrl': u'https://okt.to/4DZu0T',\n",
       "       u'shortenedUrl': u'https://okt.to/4DZu0T\\xa0',\n",
       "       u'submittedImageUrl': u'https://media.licdn.com/media-proxy/ext?w=600&h=315&f=n&hash=WBD0nW28zx6INI4L%2FGX2lOUVpJo%3D&ora=1%2CaFBCTXdkRmpGL2lvQUFBPQ%2CxAVta5g-0R6-mw4XwBMzrqiOv0219wlESo-TFmjkBnf1uMqGYHehesbaZurl4B1VbS9whQZEau3eEmy-RdChcte-KokylcG6ZsKxdUkFZhFz109E5dw5PAsorIOuDP_8ZTwLgMpeZCO4IPy7QQBvW3Jyr8rYfMKKD2kzlAfCXdbm',\n",
       "       u'submittedUrl': u'https://okt.to/4DZu0T',\n",
       "       u'thumbnailUrl': u'https://media.licdn.com/media-proxy/ext?w=80&h=100&f=&hash=jUGRiZvfHNRaUt79YQpWXoK8Ggc%3D&ora=1%2CaFBCTXdkRmpGL2lvQUFBPQ%2CxAVta5g-0R6nlh8Tw1It6a2FowGz60oISIfYC2G8G2f1spyfNT-tdoDSf7KhsgUbey0EhlI_IfnwEXO5H_TOX4qxGt55wd_jXe6dMitDOzoRvTtDw-QNKTMr8MeCQ-TiYXMfl757bAmfEI3RY1kNBzUQ0b6FO7btD38h6BPebsDAL9hEC7AvoLMMjlNC8_XSNuck2p1j5345mg_l67XfBTdB37OmAUScCVBkH0jRH8Vuu6eCwTCJqkXNlh3w9rmSNvC0G5UO73a9tOb9ex7Oun1LtmMD3UsyicFsDXDz2u8MwVu0AsAvZRasqbC1FV37_KdGygcPt9GtMQKHaEAxqTB9aJ75qkIPKaqc5TDFoRJQWclrT3JulpeFd_WW8ECpNHx7Z1q5YR9el9E',\n",
       "       u'title': u'How Data Is Changing The Role Of Marketers'},\n",
       "      u'id': u's6410053440914878464',\n",
       "      u'source': {u'serviceProvider': {u'name': u'LINKEDIN'},\n",
       "       u'serviceProviderShareId': u's6410053440914878464'},\n",
       "      u'timestamp': 1528275833349,\n",
       "      u'visibility': {u'code': u'anyone'}}}},\n",
       "   u'updateKey': u'UPDATE-c10523915-6410053441380454400',\n",
       "   u'updateType': u'CMPY'},\n",
       "  {u'isCommentable': True,\n",
       "   u'isLikable': True,\n",
       "   u'isLiked': False,\n",
       "   u'likes': {u'_total': 1, u'values': [{}]},\n",
       "   u'numLikes': 1,\n",
       "   u'timestamp': 1528275545242,\n",
       "   u'updateComments': {u'_total': 0},\n",
       "   u'updateContent': {u'company': {u'id': 10523915,\n",
       "     u'name': u'Acxiom Asia Pacific'},\n",
       "    u'companyStatusUpdate': {u'share': {u'comment': u'What role can\\xa0#technology\\xa0play in driving #brandloyalty and #advocacy?\\xa0Find out how to provide a seamless customer journey in Marketing Interactive: https://okt.to/4bpt9A\\xa0\\n#marketing\\xa0#customerengagement\\xa0#blockchain',\n",
       "      u'content': {u'description': u'Wondering what will brand loyalty be like in the coming five years? Read more about what experts have discussed in this roundtable luncheon.',\n",
       "       u'eyebrowUrl': u'https://okt.to/4bpt9A',\n",
       "       u'shortenedUrl': u'https://okt.to/4bpt9A\\xa0',\n",
       "       u'submittedImageUrl': u'https://media.licdn.com/media-proxy/ext?w=700&h=413&f=n&hash=Zs8aDt1ToUDWsfLHRrkKrn1fL1A%3D&ora=1%2CaFBCTXdkRmpGL2lvQUFBPQ%2CxAVta9Er0Vinkhwf0VIs4byKqFu56kAKTIzIB3LwCGHzvICeMyi0Z4TcZ-P89RdJJn1G0xphILK3B3D8Qczib9-xOcM0y8u6dcSnKVVWOER51T0AzfgWEDhph6DrUrugeHofgaJSfSg',\n",
       "       u'submittedUrl': u'https://okt.to/4bpt9A',\n",
       "       u'thumbnailUrl': u'https://media.licdn.com/media-proxy/ext?w=80&h=100&f=&hash=qdY71R6C2%2BoTDZMdTbYo4pXBGso%3D&ora=1%2CaFBCTXdkRmpGL2lvQUFBPQ%2CxAVta5g-0R6nlh8Tw1It6a2FowGz60oISIfYC2G8G2f1spyfNT-tdoDSfrKhsgUbfC0ChlI_IfnwEXO5H_n_I9ubOd0V1PKRQ9OySi80excdl2ce6v1qGFx3kdKpF-qtMWsc8e1-TwyJC73iVV8vLQll8fq4GKH6GWxUi3WUbO71GJVgTOdU-Y9Ry0lT9_vsB5480ad77n08nlWd143TLBEuuLm8KGiWHUAcKWDtIfUWhPuz0QjFoAiGqE34jYHBIvm7A6wd5lz7xbD8LjaAknBq5y0P9wU01tMtFCXQj-YRwXWGAOQsbUvbh7HEVn6pz5U38jYU7ueWKwW2X3pBnAJtRbPnvHQy',\n",
       "       u'title': u'Technology in driving brand loyalty and advocacy'},\n",
       "      u'id': u's6410052232502345728',\n",
       "      u'source': {u'serviceProvider': {u'name': u'LINKEDIN'},\n",
       "       u'serviceProviderShareId': u's6410052232502345728'},\n",
       "      u'timestamp': 1528275545242,\n",
       "      u'visibility': {u'code': u'anyone'}}}},\n",
       "   u'updateKey': u'UPDATE-c10523915-6410052232959528960',\n",
       "   u'updateType': u'CMPY'},\n",
       "  {u'isCommentable': False,\n",
       "   u'isLikable': False,\n",
       "   u'timestamp': 1528248287591,\n",
       "   u'updateContent': {u'company': {u'id': 10523915,\n",
       "     u'name': u'Acxiom Asia Pacific'},\n",
       "    u'companyJobUpdate': {u'action': {u'code': u'none'},\n",
       "     u'job': {u'company': {u'id': 10523915, u'name': u'Acxiom Asia Pacific'},\n",
       "      u'description': u'DUTIES AND RESPONSIBILITIES \\uf0b7 \\n Help our customers leverage off their investment by articulating the strategic value backed by results \\uf0b7 To deliver clients optimized results through Acxiom\\u2019s multichannel campaign services and technology  \\uf0b7 Presales support as needed, in senior capacity providing strategic thought leadership by leveraging either or both &nbsp; o Specific domain experience in Digital ecosystem (services, technologies, trends) &nbsp; o Wide domain experience in Digital ecosystem (services, technologies, trends)&nbsp;\\nDrive new requirements and needs to Product team, and upholding accountability from Product team \\uf0b7 Drive analytical and insight standardization and delivery \\uf0b7 Be able to recognize situations and engage appropriate; where advanced subject matter experts are required \\uf0b7 Collaborate on projects and opportunities with other teams \\n RECRUITING INFORMATION \\n Specific hiring needs may vary by location, industry, client, internal department and other business related factors. The qualificati',\n",
       "      u'id': 666170425,\n",
       "      u'locationDescription': u'Shanghai City, China',\n",
       "      u'position': {u'title': u'Consultant'},\n",
       "      u'siteJobRequest': {u'url': u'https://www.linkedin.com/jobs?viewJob=&jobId=666170425'}}}},\n",
       "   u'updateKey': u'UPDATE-c10523915-6409937905204236288',\n",
       "   u'updateType': u'CMPY'}]}"
      ]
     },
     "execution_count": 24,
     "metadata": {},
     "output_type": "execute_result"
    }
   ],
   "source": [
    "application.get_company_updates(10523915, params={'count': 15})"
   ]
  },
  {
   "cell_type": "code",
   "execution_count": 25,
   "metadata": {},
   "outputs": [
    {
     "data": {
      "text/plain": [
       "{u'_total': 1,\n",
       " u'values': [{u'_key': u'10523915',\n",
       "   u'id': 10523915,\n",
       "   u'name': u'Acxiom Asia Pacific'}]}"
      ]
     },
     "execution_count": 25,
     "metadata": {},
     "output_type": "execute_result"
    }
   ],
   "source": [
    "application.get_companies(company_ids=[10523915])"
   ]
  },
  {
   "cell_type": "code",
   "execution_count": 26,
   "metadata": {},
   "outputs": [
    {
     "data": {
      "text/plain": [
       "{u'_total': 0}"
      ]
     },
     "execution_count": 26,
     "metadata": {},
     "output_type": "execute_result"
    }
   ],
   "source": [
    "application.get_companies(company_ids=[1035],params={'is_company_admin':'false'})"
   ]
  },
  {
   "cell_type": "code",
   "execution_count": 27,
   "metadata": {},
   "outputs": [
    {
     "ename": "LinkedInError",
     "evalue": "404 Client Error: Not Found for url: https://api.linkedin.com/v1/companies::(universal-name=Acxiom%20Asia%20Pacific)?oauth2_access_token=AQWpSwc6cxXWNFRkVjvxGW18DfMIVecXKq3OvyHe1rtOmE4kWOS40fiyFKubjx1ElK3Sd5uYx-BpZ_avx5RS84k6AhHk_J-tGmoBlPjgCfYWOQovQPlbKPKDJxkEjL3ZxlH4UJHp2t8jIyJ7jcSzPwNrErw6nSWwX2QiXm8Wc05MpVuoSHT0vBIXCfdwRrRXXan6BN9PFy3PQ5Bg3A6VqWQmUvdWBkfu4Jk13lGqh4XWrNl1_giE-x4Y5btXPSDPEOpq6UegeQQXNyZqbISdlkTlwoy62CP3FftZ-8id5nJaRBntnEZe7o1jJW7HYXvd48OG5qu4SJq0wK4epOzvYDMfjTvufQ: Unknown Error",
     "output_type": "error",
     "traceback": [
      "\u001b[0;31m---------------------------------------------------------------------------\u001b[0m",
      "\u001b[0;31mLinkedInError\u001b[0m                             Traceback (most recent call last)",
      "\u001b[0;32m<ipython-input-27-357fd5243639>\u001b[0m in \u001b[0;36m<module>\u001b[0;34m()\u001b[0m\n\u001b[0;32m----> 1\u001b[0;31m \u001b[0mapplication\u001b[0m\u001b[0;34m.\u001b[0m\u001b[0mget_companies\u001b[0m\u001b[0;34m(\u001b[0m\u001b[0muniversal_names\u001b[0m\u001b[0;34m=\u001b[0m\u001b[0;34m[\u001b[0m\u001b[0;34m'Acxiom Asia Pacific'\u001b[0m\u001b[0;34m]\u001b[0m\u001b[0;34m)\u001b[0m\u001b[0;34m\u001b[0m\u001b[0m\n\u001b[0m",
      "\u001b[0;32m/anaconda2/lib/python2.7/site-packages/linkedin/linkedin.pyc\u001b[0m in \u001b[0;36mget_companies\u001b[0;34m(self, company_ids, universal_names, selectors, params, headers)\u001b[0m\n\u001b[1;32m    333\u001b[0m \u001b[0;34m\u001b[0m\u001b[0m\n\u001b[1;32m    334\u001b[0m         \u001b[0mresponse\u001b[0m \u001b[0;34m=\u001b[0m \u001b[0mself\u001b[0m\u001b[0;34m.\u001b[0m\u001b[0mmake_request\u001b[0m\u001b[0;34m(\u001b[0m\u001b[0;34m'GET'\u001b[0m\u001b[0;34m,\u001b[0m \u001b[0murl\u001b[0m\u001b[0;34m,\u001b[0m \u001b[0mparams\u001b[0m\u001b[0;34m=\u001b[0m\u001b[0mparams\u001b[0m\u001b[0;34m,\u001b[0m \u001b[0mheaders\u001b[0m\u001b[0;34m=\u001b[0m\u001b[0mheaders\u001b[0m\u001b[0;34m)\u001b[0m\u001b[0;34m\u001b[0m\u001b[0m\n\u001b[0;32m--> 335\u001b[0;31m         \u001b[0mraise_for_error\u001b[0m\u001b[0;34m(\u001b[0m\u001b[0mresponse\u001b[0m\u001b[0;34m)\u001b[0m\u001b[0;34m\u001b[0m\u001b[0m\n\u001b[0m\u001b[1;32m    336\u001b[0m         \u001b[0;32mreturn\u001b[0m \u001b[0mresponse\u001b[0m\u001b[0;34m.\u001b[0m\u001b[0mjson\u001b[0m\u001b[0;34m(\u001b[0m\u001b[0;34m)\u001b[0m\u001b[0;34m\u001b[0m\u001b[0m\n\u001b[1;32m    337\u001b[0m \u001b[0;34m\u001b[0m\u001b[0m\n",
      "\u001b[0;32m/anaconda2/lib/python2.7/site-packages/linkedin/utils.pyc\u001b[0m in \u001b[0;36mraise_for_error\u001b[0;34m(response)\u001b[0m\n\u001b[1;32m     61\u001b[0m                 message = '%s: %s' % (response.get('error', error.message),\n\u001b[1;32m     62\u001b[0m                                       response.get('error_description', 'Unknown Error'))\n\u001b[0;32m---> 63\u001b[0;31m                 \u001b[0;32mraise\u001b[0m \u001b[0mLinkedInError\u001b[0m\u001b[0;34m(\u001b[0m\u001b[0mmessage\u001b[0m\u001b[0;34m)\u001b[0m\u001b[0;34m\u001b[0m\u001b[0m\n\u001b[0m\u001b[1;32m     64\u001b[0m             \u001b[0;32melse\u001b[0m\u001b[0;34m:\u001b[0m\u001b[0;34m\u001b[0m\u001b[0m\n\u001b[1;32m     65\u001b[0m                 \u001b[0;32mraise\u001b[0m \u001b[0mLinkedInError\u001b[0m\u001b[0;34m(\u001b[0m\u001b[0merror\u001b[0m\u001b[0;34m.\u001b[0m\u001b[0mmessage\u001b[0m\u001b[0;34m)\u001b[0m\u001b[0;34m\u001b[0m\u001b[0m\n",
      "\u001b[0;31mLinkedInError\u001b[0m: 404 Client Error: Not Found for url: https://api.linkedin.com/v1/companies::(universal-name=Acxiom%20Asia%20Pacific)?oauth2_access_token=AQWpSwc6cxXWNFRkVjvxGW18DfMIVecXKq3OvyHe1rtOmE4kWOS40fiyFKubjx1ElK3Sd5uYx-BpZ_avx5RS84k6AhHk_J-tGmoBlPjgCfYWOQovQPlbKPKDJxkEjL3ZxlH4UJHp2t8jIyJ7jcSzPwNrErw6nSWwX2QiXm8Wc05MpVuoSHT0vBIXCfdwRrRXXan6BN9PFy3PQ5Bg3A6VqWQmUvdWBkfu4Jk13lGqh4XWrNl1_giE-x4Y5btXPSDPEOpq6UegeQQXNyZqbISdlkTlwoy62CP3FftZ-8id5nJaRBntnEZe7o1jJW7HYXvd48OG5qu4SJq0wK4epOzvYDMfjTvufQ: Unknown Error"
     ]
    }
   ],
   "source": [
    "application.get_companies(universal_names=['Acxiom Asia Pacific'])"
   ]
  },
  {
   "cell_type": "code",
   "execution_count": null,
   "metadata": {},
   "outputs": [],
   "source": [
    "para={'time-granularity':'day','start-timestamp':'1529920533450'}"
   ]
  },
  {
   "cell_type": "code",
   "execution_count": 28,
   "metadata": {},
   "outputs": [
    {
     "ename": "SyntaxError",
     "evalue": "invalid syntax (<ipython-input-28-f3f84c5d0584>, line 1)",
     "output_type": "error",
     "traceback": [
      "\u001b[0;36m  File \u001b[0;32m\"<ipython-input-28-f3f84c5d0584>\"\u001b[0;36m, line \u001b[0;32m1\u001b[0m\n\u001b[0;31m    application.make_request('GET','https://api.linkedin.com/v1/companies/'10523915'/historical-status-update-statistics',para)\u001b[0m\n\u001b[0m                                                                                  ^\u001b[0m\n\u001b[0;31mSyntaxError\u001b[0m\u001b[0;31m:\u001b[0m invalid syntax\n"
     ]
    }
   ],
   "source": [
    "application.make_request('GET','https://api.linkedin.com/v1/companies/'10523915'/historical-status-update-statistics',para)"
   ]
  },
  {
   "cell_type": "code",
   "execution_count": null,
   "metadata": {},
   "outputs": [],
   "source": []
  }
 ],
 "metadata": {
  "kernelspec": {
   "display_name": "Python 2",
   "language": "python",
   "name": "python2"
  },
  "language_info": {
   "codemirror_mode": {
    "name": "ipython",
    "version": 2
   },
   "file_extension": ".py",
   "mimetype": "text/x-python",
   "name": "python",
   "nbconvert_exporter": "python",
   "pygments_lexer": "ipython2",
   "version": "2.7.14"
  }
 },
 "nbformat": 4,
 "nbformat_minor": 2
}
